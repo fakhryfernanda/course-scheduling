{
 "cells": [
  {
   "cell_type": "code",
   "execution_count": 1,
   "id": "3c12e5fa",
   "metadata": {},
   "outputs": [
    {
     "name": "stdout",
     "output_type": "stream",
     "text": [
      "[23, 23, 22, 24, 23, 21, 21, 21, 21, 21]\n",
      "\n",
      "[True, True, True, True, True, True, True, True, True, True]\n"
     ]
    }
   ],
   "source": [
    "%run main.py"
   ]
  },
  {
   "cell_type": "code",
   "execution_count": 2,
   "id": "5c8e5f64",
   "metadata": {},
   "outputs": [],
   "source": [
    "ch1 = ga.population[0].chromosome\n",
    "ch2 = ga.population[1].chromosome"
   ]
  },
  {
   "cell_type": "code",
   "execution_count": 3,
   "id": "3d411405",
   "metadata": {},
   "outputs": [],
   "source": [
    "flattened1 = ch1.flatten(order='F')\n",
    "flattened2 = ch2.flatten(order='F')"
   ]
  },
  {
   "cell_type": "code",
   "execution_count": 4,
   "id": "30b3ef4d",
   "metadata": {},
   "outputs": [
    {
     "data": {
      "text/plain": [
       "629"
      ]
     },
     "execution_count": 4,
     "metadata": {},
     "output_type": "execute_result"
    }
   ],
   "source": [
    "import numpy as np\n",
    "np.count_nonzero(flattened2 == 0)"
   ]
  },
  {
   "cell_type": "code",
   "execution_count": null,
   "id": "c4b90dcb",
   "metadata": {},
   "outputs": [],
   "source": [
    "child1, child2 = ga.crossover(parent1=ch1, parent2=ch2)"
   ]
  },
  {
   "cell_type": "code",
   "execution_count": 6,
   "id": "ea26c0a5",
   "metadata": {},
   "outputs": [],
   "source": [
    "from utils import io\n",
    "io.export_to_txt(child1, \"solutions\", f\"child1.txt\")\n",
    "io.export_to_txt(child2, \"solutions\", f\"child2.txt\")"
   ]
  },
  {
   "cell_type": "code",
   "execution_count": null,
   "id": "284d981a",
   "metadata": {},
   "outputs": [],
   "source": []
  }
 ],
 "metadata": {
  "kernelspec": {
   "display_name": "course-scheduling",
   "language": "python",
   "name": "python3"
  },
  "language_info": {
   "codemirror_mode": {
    "name": "ipython",
    "version": 3
   },
   "file_extension": ".py",
   "mimetype": "text/x-python",
   "name": "python",
   "nbconvert_exporter": "python",
   "pygments_lexer": "ipython3",
   "version": "3.13.2"
  }
 },
 "nbformat": 4,
 "nbformat_minor": 5
}
