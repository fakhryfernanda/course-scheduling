{
 "cells": [
  {
   "cell_type": "code",
   "execution_count": 1,
   "id": "3c12e5fa",
   "metadata": {},
   "outputs": [
    {
     "name": "stdout",
     "output_type": "stream",
     "text": [
      "[21, 18, 21, 21, 23, 20, 24, 21, 21, 19]\n",
      "\n",
      "[True, True, True, True, True, True, True, True, True, True]\n"
     ]
    }
   ],
   "source": [
    "%run main.py"
   ]
  },
  {
   "cell_type": "code",
   "execution_count": 2,
   "id": "5c8e5f64",
   "metadata": {},
   "outputs": [],
   "source": [
    "ch1 = ga.population[0]\n",
    "ch2 = ga.population[1]"
   ]
  },
  {
   "cell_type": "code",
   "execution_count": 3,
   "id": "c4b90dcb",
   "metadata": {},
   "outputs": [],
   "source": [
    "from utils import io\n",
    "\n",
    "# child1, child2 = ga.crossover(parent1=ch1.chromosome, parent2=ch2.chromosome)\n",
    "# io.export_to_txt(child1, \"solutions\", f\"child1.txt\")\n",
    "# io.export_to_txt(child2, \"solutions\", f\"child2.txt\")"
   ]
  },
  {
   "cell_type": "code",
   "execution_count": 4,
   "id": "ea26c0a5",
   "metadata": {},
   "outputs": [
    {
     "name": "stdout",
     "output_type": "stream",
     "text": [
      "Swapped value:\n",
      "(311, 0)\n",
      "Swapped value:\n",
      "(211, 0)\n",
      "Swapped value:\n",
      "(531, 0)\n",
      "Swapped value:\n",
      "(451, 0)\n",
      "Swapped value:\n",
      "(232, 0)\n"
     ]
    }
   ],
   "source": [
    "ch1.mutate()\n",
    "io.export_to_txt(ch1.chromosome, \"solutions\", f\"mutated.txt\")"
   ]
  },
  {
   "cell_type": "code",
   "execution_count": 5,
   "id": "284d981a",
   "metadata": {},
   "outputs": [
    {
     "name": "stdout",
     "output_type": "stream",
     "text": [
      "Class boundary violation at time 19 and room 6: value 232\n",
      "Constraint failed: Class boundary check\n"
     ]
    },
    {
     "data": {
      "text/plain": [
       "False"
      ]
     },
     "execution_count": 5,
     "metadata": {},
     "output_type": "execute_result"
    }
   ],
   "source": [
    "ch1.check_constraint(verbose=True)"
   ]
  }
 ],
 "metadata": {
  "kernelspec": {
   "display_name": "course-scheduling",
   "language": "python",
   "name": "python3"
  },
  "language_info": {
   "codemirror_mode": {
    "name": "ipython",
    "version": 3
   },
   "file_extension": ".py",
   "mimetype": "text/x-python",
   "name": "python",
   "nbconvert_exporter": "python",
   "pygments_lexer": "ipython3",
   "version": "3.13.2"
  }
 },
 "nbformat": 4,
 "nbformat_minor": 5
}
