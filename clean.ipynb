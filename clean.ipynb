{
 "cells": [
  {
   "cell_type": "code",
   "execution_count": 1,
   "id": "3c12e5fa",
   "metadata": {},
   "outputs": [
    {
     "name": "stdout",
     "output_type": "stream",
     "text": [
      "[22, 21, 24, 20, 19, 21, 19, 22, 22, 20]\n",
      "\n",
      "[True, True, True, True, True, True, True, True, True, True]\n"
     ]
    }
   ],
   "source": [
    "%run main.py"
   ]
  },
  {
   "cell_type": "code",
   "execution_count": 2,
   "id": "5c8e5f64",
   "metadata": {},
   "outputs": [],
   "source": [
    "ch1 = ga.population[0]\n",
    "ch2 = ga.population[1]"
   ]
  },
  {
   "cell_type": "code",
   "execution_count": 3,
   "id": "c4b90dcb",
   "metadata": {},
   "outputs": [],
   "source": [
    "from utils import io\n",
    "\n",
    "# child1, child2 = ga.crossover(parent1=ch1.chromosome, parent2=ch2.chromosome)\n",
    "# io.export_to_txt(child1, \"solutions\", f\"child1.txt\")\n",
    "# io.export_to_txt(child2, \"solutions\", f\"child2.txt\")"
   ]
  },
  {
   "cell_type": "code",
   "execution_count": 4,
   "id": "ea26c0a5",
   "metadata": {},
   "outputs": [
    {
     "name": "stdout",
     "output_type": "stream",
     "text": [
      "Swapped index:\n",
      "(18, 19) (19, 2)\n",
      "Swapped index:\n",
      "(16, 2) (26, 20)\n",
      "Swapped index:\n",
      "(13, 12) (23, 10)\n",
      "Swapped index:\n",
      "(27, 14) (5, 7)\n",
      "Swapped index:\n",
      "(16, 0) (3, 6)\n"
     ]
    }
   ],
   "source": [
    "ch1.mutate()\n",
    "io.export_to_txt(ch1.chromosome, \"solutions\", f\"mutated.txt\")"
   ]
  },
  {
   "cell_type": "code",
   "execution_count": null,
   "id": "284d981a",
   "metadata": {},
   "outputs": [],
   "source": []
  }
 ],
 "metadata": {
  "kernelspec": {
   "display_name": "course-scheduling",
   "language": "python",
   "name": "python3"
  },
  "language_info": {
   "codemirror_mode": {
    "name": "ipython",
    "version": 3
   },
   "file_extension": ".py",
   "mimetype": "text/x-python",
   "name": "python",
   "nbconvert_exporter": "python",
   "pygments_lexer": "ipython3",
   "version": "3.13.2"
  }
 },
 "nbformat": 4,
 "nbformat_minor": 5
}
