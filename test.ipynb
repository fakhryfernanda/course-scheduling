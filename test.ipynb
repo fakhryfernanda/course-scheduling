{
 "cells": [
  {
   "cell_type": "code",
   "execution_count": 34,
   "id": "3c12e5fa",
   "metadata": {},
   "outputs": [],
   "source": [
    "%run main.py"
   ]
  },
  {
   "cell_type": "code",
   "execution_count": 35,
   "id": "c4b90dcb",
   "metadata": {},
   "outputs": [],
   "source": [
    "from utils import io\n",
    "\n",
    "# ch1 = ga.population[0]\n",
    "# ch2 = ga.population[1]\n",
    "\n",
    "# child1, child2 = ga.crossover(parent1=ch1.chromosome, parent2=ch2.chromosome)\n",
    "# io.export_to_txt(child1, \"solutions\", f\"child1.txt\")\n",
    "# io.export_to_txt(child2, \"solutions\", f\"child2.txt\")\n",
    "\n",
    "# ch1.mutate()\n",
    "# io.export_to_txt(ch1.chromosome, \"solutions\", f\"mutated.txt\")\n",
    "# ch1.check_constraint(verbose=True)"
   ]
  },
  {
   "cell_type": "code",
   "execution_count": 36,
   "id": "9bb72594",
   "metadata": {},
   "outputs": [],
   "source": [
    "# ga.initialize_population()\n",
    "# ga.export_population()\n",
    "# population = ga.population\n",
    "# print(ga.eval())\n",
    "\n",
    "# p1 = population[0]\n",
    "# p2 = population[1]"
   ]
  },
  {
   "cell_type": "code",
   "execution_count": 37,
   "id": "79d8a8f8",
   "metadata": {},
   "outputs": [],
   "source": [
    "# p1, p2 = ga.crossover(p1.chromosome, p2.chromosome)\n",
    "# p1 = Genome(p1)\n",
    "# p2 = Genome(p2)\n",
    "\n",
    "# p1.mutate()\n",
    "# p2.mutate()"
   ]
  },
  {
   "cell_type": "code",
   "execution_count": 38,
   "id": "b32d2404",
   "metadata": {},
   "outputs": [],
   "source": [
    "# ga.evolve()\n",
    "\n",
    "# p1 = ga.population[0]\n",
    "# p2 = ga.population[1]\n",
    "\n",
    "# ga.eval()"
   ]
  },
  {
   "cell_type": "code",
   "execution_count": 39,
   "id": "8dfd5ffb",
   "metadata": {},
   "outputs": [],
   "source": [
    "# io.export_to_txt(p1.chromosome, \"solutions\", f\"child1.txt\")\n",
    "# io.export_to_txt(p2.chromosome, \"solutions\", f\"child2.txt\")"
   ]
  },
  {
   "cell_type": "code",
   "execution_count": 40,
   "id": "8225c8d5",
   "metadata": {},
   "outputs": [],
   "source": [
    "# p1.check_constraint(verbose=True)"
   ]
  },
  {
   "cell_type": "code",
   "execution_count": 41,
   "id": "a6e3bdc1",
   "metadata": {},
   "outputs": [],
   "source": [
    "# p2.check_constraint(verbose=True)"
   ]
  },
  {
   "cell_type": "code",
   "execution_count": 42,
   "id": "aaba2bb7",
   "metadata": {},
   "outputs": [
    {
     "name": "stdout",
     "output_type": "stream",
     "text": [
      "Generation 0\n",
      "[22, 22, 24, 22, 23, 24, 21, 21, 21, 23]\n",
      "\n",
      "Generation 1\n",
      "[17, 21, 22, 23, 21, 21, 20, 20, 21, 22]\n",
      "\n",
      "Generation 2\n",
      "[18, 20, 17, 20, 20, 23, 15, 21, 17, 17]\n",
      "\n",
      "Generation 3\n",
      "[22, 18, 18, 17, 15, 16, 17, 21, 21, 15]\n",
      "\n",
      "Generation 4\n"
     ]
    },
    {
     "ename": "TypeError",
     "evalue": "'NoneType' object is not subscriptable",
     "output_type": "error",
     "traceback": [
      "\u001b[31m---------------------------------------------------------------------------\u001b[39m",
      "\u001b[31mTypeError\u001b[39m                                 Traceback (most recent call last)",
      "\u001b[36mCell\u001b[39m\u001b[36m \u001b[39m\u001b[32mIn[42]\u001b[39m\u001b[32m, line 1\u001b[39m\n\u001b[32m----> \u001b[39m\u001b[32m1\u001b[39m \u001b[43mga\u001b[49m\u001b[43m.\u001b[49m\u001b[43mrun\u001b[49m\u001b[43m(\u001b[49m\u001b[43m)\u001b[49m\n",
      "\u001b[36mFile \u001b[39m\u001b[32m~/dev/python/course-scheduling/ga/genetic_algorithm.py:96\u001b[39m, in \u001b[36mGeneticAlgorithm.run\u001b[39m\u001b[34m(self)\u001b[39m\n\u001b[32m     94\u001b[39m \u001b[38;5;28;01mfor\u001b[39;00m gen \u001b[38;5;129;01min\u001b[39;00m \u001b[38;5;28mrange\u001b[39m(\u001b[38;5;28mself\u001b[39m.max_generation):\n\u001b[32m     95\u001b[39m     \u001b[38;5;28mprint\u001b[39m(\u001b[33mf\u001b[39m\u001b[33m\"\u001b[39m\u001b[33mGeneration \u001b[39m\u001b[38;5;132;01m{\u001b[39;00mgen+\u001b[32m1\u001b[39m\u001b[38;5;132;01m}\u001b[39;00m\u001b[33m\"\u001b[39m)\n\u001b[32m---> \u001b[39m\u001b[32m96\u001b[39m     \u001b[38;5;28;43mself\u001b[39;49m\u001b[43m.\u001b[49m\u001b[43mevolve\u001b[49m\u001b[43m(\u001b[49m\u001b[43m)\u001b[49m\n\u001b[32m     97\u001b[39m     \u001b[38;5;28mself\u001b[39m.export_population()\n\u001b[32m     98\u001b[39m     \u001b[38;5;28mprint\u001b[39m(\u001b[38;5;28mself\u001b[39m.eval(), end=\u001b[33m\"\u001b[39m\u001b[38;5;130;01m\\n\u001b[39;00m\u001b[38;5;130;01m\\n\u001b[39;00m\u001b[33m\"\u001b[39m)\n",
      "\u001b[36mFile \u001b[39m\u001b[32m~/dev/python/course-scheduling/ga/genetic_algorithm.py:77\u001b[39m, in \u001b[36mGeneticAlgorithm.evolve\u001b[39m\u001b[34m(self)\u001b[39m\n\u001b[32m     75\u001b[39m p2 = parents[i + \u001b[32m1\u001b[39m]\n\u001b[32m     76\u001b[39m \u001b[38;5;28;01mif\u001b[39;00m random.random() < \u001b[38;5;28mself\u001b[39m.crossover_rate \u001b[38;5;129;01mand\u001b[39;00m \u001b[38;5;129;01mnot\u001b[39;00m are_identical(p1.chromosome, p2.chromosome):\n\u001b[32m---> \u001b[39m\u001b[32m77\u001b[39m     children_chromosomes = \u001b[38;5;28;43mself\u001b[39;49m\u001b[43m.\u001b[49m\u001b[43mcrossover\u001b[49m\u001b[43m(\u001b[49m\u001b[43mp1\u001b[49m\u001b[43m.\u001b[49m\u001b[43mchromosome\u001b[49m\u001b[43m,\u001b[49m\u001b[43m \u001b[49m\u001b[43mp2\u001b[49m\u001b[43m.\u001b[49m\u001b[43mchromosome\u001b[49m\u001b[43m)\u001b[49m\n\u001b[32m     78\u001b[39m     next_population.extend([Genome(chromosome) \u001b[38;5;28;01mfor\u001b[39;00m chromosome \u001b[38;5;129;01min\u001b[39;00m children_chromosomes])\n\u001b[32m     79\u001b[39m \u001b[38;5;28;01melse\u001b[39;00m:\n",
      "\u001b[36mFile \u001b[39m\u001b[32m~/dev/python/course-scheduling/ga/genetic_algorithm.py:61\u001b[39m, in \u001b[36mGeneticAlgorithm.crossover\u001b[39m\u001b[34m(self, parent1, parent2)\u001b[39m\n\u001b[32m     59\u001b[39m \u001b[38;5;28;01mdef\u001b[39;00m\u001b[38;5;250m \u001b[39m\u001b[34mcrossover\u001b[39m(\u001b[38;5;28mself\u001b[39m, parent1: np.ndarray, parent2: np.ndarray) -> List[np.ndarray]:\n\u001b[32m     60\u001b[39m     crossover_operator = CrossoverOperator(method=\u001b[33m\"\u001b[39m\u001b[33mrandom_slice\u001b[39m\u001b[33m\"\u001b[39m)\n\u001b[32m---> \u001b[39m\u001b[32m61\u001b[39m     \u001b[38;5;28;01mreturn\u001b[39;00m \u001b[43mcrossover_operator\u001b[49m\u001b[43m.\u001b[49m\u001b[43mrun\u001b[49m\u001b[43m(\u001b[49m\u001b[43m[\u001b[49m\u001b[43mparent1\u001b[49m\u001b[43m,\u001b[49m\u001b[43m \u001b[49m\u001b[43mparent2\u001b[49m\u001b[43m]\u001b[49m\u001b[43m)\u001b[49m\n",
      "\u001b[36mFile \u001b[39m\u001b[32m~/dev/python/course-scheduling/ga/crossover_operator.py:18\u001b[39m, in \u001b[36mCrossoverOperator.run\u001b[39m\u001b[34m(self, parents)\u001b[39m\n\u001b[32m     16\u001b[39m     \u001b[38;5;28;01mreturn\u001b[39;00m [\u001b[38;5;28mself\u001b[39m._fixed_slice(parent1, parent2)]\n\u001b[32m     17\u001b[39m \u001b[38;5;28;01melif\u001b[39;00m \u001b[38;5;28mself\u001b[39m.method == \u001b[33m\"\u001b[39m\u001b[33mrandom_slice\u001b[39m\u001b[33m\"\u001b[39m:\n\u001b[32m---> \u001b[39m\u001b[32m18\u001b[39m     \u001b[38;5;28;01mreturn\u001b[39;00m \u001b[38;5;28;43mself\u001b[39;49m\u001b[43m.\u001b[49m\u001b[43m_random_slice\u001b[49m\u001b[43m(\u001b[49m\u001b[43mparent1\u001b[49m\u001b[43m,\u001b[49m\u001b[43m \u001b[49m\u001b[43mparent2\u001b[49m\u001b[43m)\u001b[49m\n\u001b[32m     19\u001b[39m \u001b[38;5;28;01melse\u001b[39;00m:\n\u001b[32m     20\u001b[39m     \u001b[38;5;28;01mraise\u001b[39;00m \u001b[38;5;167;01mValueError\u001b[39;00m(\u001b[33mf\u001b[39m\u001b[33m\"\u001b[39m\u001b[33mUnsupported crossover method: \u001b[39m\u001b[38;5;132;01m{\u001b[39;00m\u001b[38;5;28mself\u001b[39m.method\u001b[38;5;132;01m}\u001b[39;00m\u001b[33m\"\u001b[39m)\n",
      "\u001b[36mFile \u001b[39m\u001b[32m~/dev/python/course-scheduling/ga/crossover_operator.py:177\u001b[39m, in \u001b[36mCrossoverOperator._random_slice\u001b[39m\u001b[34m(self, parent1, parent2)\u001b[39m\n\u001b[32m    175\u001b[39m child2 = single_crossover(p2, p1)\n\u001b[32m    176\u001b[39m child2 = fix_class_boundary_fault(child2)\n\u001b[32m--> \u001b[39m\u001b[32m177\u001b[39m child2 = \u001b[43mfix_multiple_subject_session_fault\u001b[49m\u001b[43m(\u001b[49m\u001b[43mchild2\u001b[49m\u001b[43m)\u001b[49m\n\u001b[32m    179\u001b[39m \u001b[38;5;28;01mreturn\u001b[39;00m [child1, child2]\n",
      "\u001b[36mFile \u001b[39m\u001b[32m~/dev/python/course-scheduling/ga/crossover_operator.py:133\u001b[39m, in \u001b[36mCrossoverOperator._random_slice.<locals>.fix_multiple_subject_session_fault\u001b[39m\u001b[34m(arr)\u001b[39m\n\u001b[32m    130\u001b[39m     rows = [i \u001b[38;5;28;01mfor\u001b[39;00m i \u001b[38;5;129;01min\u001b[39;00m \u001b[38;5;28mrange\u001b[39m(T) \u001b[38;5;28;01mif\u001b[39;00m i // \u001b[32m10\u001b[39m != t // \u001b[32m10\u001b[39m]\n\u001b[32m    131\u001b[39m     cols = \u001b[38;5;28mlist\u001b[39m(\u001b[38;5;28mrange\u001b[39m(R))\n\u001b[32m--> \u001b[39m\u001b[32m133\u001b[39m     arr = \u001b[43msafe_swap\u001b[49m\u001b[43m(\u001b[49m\u001b[43marr\u001b[49m\u001b[43m,\u001b[49m\u001b[43m \u001b[49m\u001b[43mval\u001b[49m\u001b[43m,\u001b[49m\u001b[43m \u001b[49m\u001b[43mrows\u001b[49m\u001b[43m,\u001b[49m\u001b[43m \u001b[49m\u001b[43mcols\u001b[49m\u001b[43m)\u001b[49m\n\u001b[32m    135\u001b[39m \u001b[38;5;28;01mreturn\u001b[39;00m arr\n",
      "\u001b[36mFile \u001b[39m\u001b[32m~/dev/python/course-scheduling/utils/helper.py:45\u001b[39m, in \u001b[36msafe_swap\u001b[39m\u001b[34m(arr, val, possible_rows, possible_cols)\u001b[39m\n\u001b[32m     43\u001b[39m \u001b[38;5;28;01mif\u001b[39;00m row < T - \u001b[32m1\u001b[39m \u001b[38;5;129;01mand\u001b[39;00m arr[row, col] == \u001b[32m0\u001b[39m:\n\u001b[32m     44\u001b[39m     \u001b[38;5;28;01mif\u001b[39;00m is_two_hour:\n\u001b[32m---> \u001b[39m\u001b[32m45\u001b[39m         \u001b[38;5;28;01mif\u001b[39;00m arr[\u001b[43mpair_location\u001b[49m\u001b[43m[\u001b[49m\u001b[32;43m0\u001b[39;49m\u001b[43m]\u001b[49m, col] == \u001b[32m0\u001b[39m:\n\u001b[32m     46\u001b[39m             arr[row, col] = val\n\u001b[32m     47\u001b[39m             arr[row + \u001b[32m1\u001b[39m, col] = val\n",
      "\u001b[31mTypeError\u001b[39m: 'NoneType' object is not subscriptable"
     ]
    }
   ],
   "source": [
    "ga.run()"
   ]
  },
  {
   "cell_type": "code",
   "execution_count": 10,
   "id": "ac2c2b55",
   "metadata": {},
   "outputs": [
    {
     "data": {
      "text/plain": [
       "39"
      ]
     },
     "execution_count": 10,
     "metadata": {},
     "output_type": "execute_result"
    }
   ],
   "source": [
    "639 % 40"
   ]
  },
  {
   "cell_type": "code",
   "execution_count": 11,
   "id": "6b9b2701",
   "metadata": {},
   "outputs": [],
   "source": [
    "from utils import io\n",
    "arr1 = io.import_from_txt(\"debug\", f\"p1.txt\")"
   ]
  },
  {
   "cell_type": "code",
   "execution_count": 12,
   "id": "2f455110",
   "metadata": {},
   "outputs": [],
   "source": [
    "from collections import Counter\n",
    "flatten = arr1.flatten(order='F')\n",
    "counter = Counter(flatten)"
   ]
  },
  {
   "cell_type": "code",
   "execution_count": 13,
   "id": "26143616",
   "metadata": {},
   "outputs": [],
   "source": [
    "counter[0] += 1"
   ]
  },
  {
   "cell_type": "code",
   "execution_count": 14,
   "id": "4a7997af",
   "metadata": {},
   "outputs": [],
   "source": [
    "aa = list(range(10))\n",
    "aa_iter = iter(aa)"
   ]
  },
  {
   "cell_type": "code",
   "execution_count": 15,
   "id": "db8057f8",
   "metadata": {},
   "outputs": [
    {
     "name": "stdout",
     "output_type": "stream",
     "text": [
      "0\n",
      "1\n",
      "2\n",
      "3\n",
      "4\n",
      "5\n",
      "6\n",
      "7\n",
      "8\n",
      "9\n"
     ]
    }
   ],
   "source": [
    "for i in range(10):\n",
    "    print(next(aa_iter))"
   ]
  },
  {
   "cell_type": "code",
   "execution_count": null,
   "id": "a960c78d",
   "metadata": {},
   "outputs": [],
   "source": []
  }
 ],
 "metadata": {
  "kernelspec": {
   "display_name": "course-scheduling",
   "language": "python",
   "name": "python3"
  },
  "language_info": {
   "codemirror_mode": {
    "name": "ipython",
    "version": 3
   },
   "file_extension": ".py",
   "mimetype": "text/x-python",
   "name": "python",
   "nbconvert_exporter": "python",
   "pygments_lexer": "ipython3",
   "version": "3.13.3"
  }
 },
 "nbformat": 4,
 "nbformat_minor": 5
}
