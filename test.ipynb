{
 "cells": [
  {
   "cell_type": "code",
   "execution_count": 113,
   "id": "3c12e5fa",
   "metadata": {},
   "outputs": [],
   "source": [
    "%run main.py"
   ]
  },
  {
   "cell_type": "code",
   "execution_count": 114,
   "id": "c4b90dcb",
   "metadata": {},
   "outputs": [],
   "source": [
    "from utils import io\n",
    "\n",
    "# ch1 = ga.population[0]\n",
    "# ch2 = ga.population[1]\n",
    "\n",
    "# child1, child2 = ga.crossover(parent1=ch1.chromosome, parent2=ch2.chromosome)\n",
    "# io.export_to_txt(child1, \"solutions\", f\"child1.txt\")\n",
    "# io.export_to_txt(child2, \"solutions\", f\"child2.txt\")\n",
    "\n",
    "# ch1.mutate()\n",
    "# io.export_to_txt(ch1.chromosome, \"solutions\", f\"mutated.txt\")\n",
    "# ch1.check_constraint(verbose=True)"
   ]
  },
  {
   "cell_type": "code",
   "execution_count": 115,
   "id": "9bb72594",
   "metadata": {},
   "outputs": [
    {
     "name": "stdout",
     "output_type": "stream",
     "text": [
      "[23, 20, 22, 22, 20, 20, 19, 22, 23, 21]\n"
     ]
    }
   ],
   "source": [
    "ga.initialize_population()\n",
    "ga.export_population()\n",
    "population = ga.population\n",
    "print(ga.eval())\n",
    "\n",
    "p1 = population[0]\n",
    "p2 = population[1]"
   ]
  },
  {
   "cell_type": "code",
   "execution_count": 116,
   "id": "79d8a8f8",
   "metadata": {},
   "outputs": [],
   "source": [
    "# p1, p2 = ga.crossover(p1.chromosome, p2.chromosome)\n",
    "# p1 = Genome(p1)\n",
    "# p2 = Genome(p2)\n",
    "\n",
    "# p1.mutate()\n",
    "# p2.mutate()"
   ]
  },
  {
   "cell_type": "code",
   "execution_count": 117,
   "id": "b32d2404",
   "metadata": {},
   "outputs": [
    {
     "data": {
      "text/plain": [
       "[19, 17, 22, 22, 20, 21, 18, 20, 17, 17]"
      ]
     },
     "execution_count": 117,
     "metadata": {},
     "output_type": "execute_result"
    }
   ],
   "source": [
    "ga.evolve()\n",
    "\n",
    "p1 = ga.population[0]\n",
    "p2 = ga.population[1]\n",
    "\n",
    "ga.eval()"
   ]
  },
  {
   "cell_type": "code",
   "execution_count": 118,
   "id": "8dfd5ffb",
   "metadata": {},
   "outputs": [],
   "source": [
    "io.export_to_txt(p1.chromosome, \"solutions\", f\"child1.txt\")\n",
    "io.export_to_txt(p2.chromosome, \"solutions\", f\"child2.txt\")"
   ]
  },
  {
   "cell_type": "code",
   "execution_count": 119,
   "id": "8225c8d5",
   "metadata": {},
   "outputs": [
    {
     "data": {
      "text/plain": [
       "True"
      ]
     },
     "execution_count": 119,
     "metadata": {},
     "output_type": "execute_result"
    }
   ],
   "source": [
    "p1.check_constraint(verbose=True)"
   ]
  },
  {
   "cell_type": "code",
   "execution_count": 120,
   "id": "a6e3bdc1",
   "metadata": {},
   "outputs": [
    {
     "data": {
      "text/plain": [
       "True"
      ]
     },
     "execution_count": 120,
     "metadata": {},
     "output_type": "execute_result"
    }
   ],
   "source": [
    "p2.check_constraint(verbose=True)"
   ]
  },
  {
   "cell_type": "code",
   "execution_count": null,
   "id": "aaba2bb7",
   "metadata": {},
   "outputs": [],
   "source": []
  }
 ],
 "metadata": {
  "kernelspec": {
   "display_name": "course-scheduling",
   "language": "python",
   "name": "python3"
  },
  "language_info": {
   "codemirror_mode": {
    "name": "ipython",
    "version": 3
   },
   "file_extension": ".py",
   "mimetype": "text/x-python",
   "name": "python",
   "nbconvert_exporter": "python",
   "pygments_lexer": "ipython3",
   "version": "3.13.2"
  }
 },
 "nbformat": 4,
 "nbformat_minor": 5
}
