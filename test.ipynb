{
 "cells": [
  {
   "cell_type": "code",
   "execution_count": 1,
   "id": "3c12e5fa",
   "metadata": {},
   "outputs": [],
   "source": [
    "%run main.py"
   ]
  },
  {
   "cell_type": "markdown",
   "id": "262bb6a3",
   "metadata": {},
   "source": [
    "## Testing"
   ]
  },
  {
   "cell_type": "markdown",
   "id": "cdcae562",
   "metadata": {},
   "source": [
    "### Crossover and Mutation"
   ]
  },
  {
   "cell_type": "code",
   "execution_count": 2,
   "id": "c4b90dcb",
   "metadata": {},
   "outputs": [],
   "source": [
    "# from utils import io\n",
    "# from ga.genome import Genome\n",
    "\n",
    "# for i in range(1000):\n",
    "#     ga.initialize_population()\n",
    "#     parent1 = ga.population[0]\n",
    "#     parent2 = ga.population[1]\n",
    "#     io.export_to_txt(parent1.chromosome, \"debug\", f\"parent1.txt\")\n",
    "#     io.export_to_txt(parent2.chromosome, \"debug\", f\"parent2.txt\")\n",
    "\n",
    "#     child = ga.crossover(parent1=parent1.chromosome, parent2=parent2.chromosome)\n",
    "#     child = Genome(child)\n",
    "#     child.check_constraint(verbose=True)\n",
    "\n",
    "#     # parent1.mutate()\n",
    "#     # io.export_to_txt(parent1.chromosome, \"debug\", f\"mutated.txt\")\n",
    "#     # parent1.check_constraint(verbose=True)"
   ]
  },
  {
   "cell_type": "markdown",
   "id": "28c519a8",
   "metadata": {},
   "source": [
    "### Run GA"
   ]
  },
  {
   "cell_type": "code",
   "execution_count": 3,
   "id": "d38e2363",
   "metadata": {},
   "outputs": [],
   "source": [
    "ga.run()"
   ]
  },
  {
   "cell_type": "code",
   "execution_count": null,
   "id": "a960c78d",
   "metadata": {},
   "outputs": [],
   "source": []
  }
 ],
 "metadata": {
  "kernelspec": {
   "display_name": "course-scheduling",
   "language": "python",
   "name": "python3"
  },
  "language_info": {
   "codemirror_mode": {
    "name": "ipython",
    "version": 3
   },
   "file_extension": ".py",
   "mimetype": "text/x-python",
   "name": "python",
   "nbconvert_exporter": "python",
   "pygments_lexer": "ipython3",
   "version": "3.13.3"
  }
 },
 "nbformat": 4,
 "nbformat_minor": 5
}
