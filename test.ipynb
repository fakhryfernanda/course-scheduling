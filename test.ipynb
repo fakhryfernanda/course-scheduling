{
 "cells": [
  {
   "cell_type": "code",
   "execution_count": 1,
   "id": "3c12e5fa",
   "metadata": {},
   "outputs": [],
   "source": [
    "%run main.py"
   ]
  },
  {
   "cell_type": "code",
   "execution_count": 2,
   "id": "c4b90dcb",
   "metadata": {},
   "outputs": [],
   "source": [
    "from utils import io\n",
    "\n",
    "# ch1 = ga.population[0]\n",
    "# ch2 = ga.population[1]\n",
    "\n",
    "# child1, child2 = ga.crossover(parent1=ch1.chromosome, parent2=ch2.chromosome)\n",
    "# io.export_to_txt(child1, \"solutions\", f\"child1.txt\")\n",
    "# io.export_to_txt(child2, \"solutions\", f\"child2.txt\")\n",
    "\n",
    "# ch1.mutate()\n",
    "# io.export_to_txt(ch1.chromosome, \"solutions\", f\"mutated.txt\")\n",
    "# ch1.check_constraint(verbose=True)"
   ]
  },
  {
   "cell_type": "code",
   "execution_count": 3,
   "id": "9bb72594",
   "metadata": {},
   "outputs": [],
   "source": [
    "# ga.initialize_population()\n",
    "# ga.export_population()\n",
    "# population = ga.population\n",
    "# print(ga.eval())\n",
    "\n",
    "# p1 = population[0]\n",
    "# p2 = population[1]"
   ]
  },
  {
   "cell_type": "code",
   "execution_count": 4,
   "id": "79d8a8f8",
   "metadata": {},
   "outputs": [],
   "source": [
    "# p1, p2 = ga.crossover(p1.chromosome, p2.chromosome)\n",
    "# p1 = Genome(p1)\n",
    "# p2 = Genome(p2)\n",
    "\n",
    "# p1.mutate()\n",
    "# p2.mutate()"
   ]
  },
  {
   "cell_type": "code",
   "execution_count": 5,
   "id": "b32d2404",
   "metadata": {},
   "outputs": [],
   "source": [
    "# ga.evolve()\n",
    "\n",
    "# p1 = ga.population[0]\n",
    "# p2 = ga.population[1]\n",
    "\n",
    "# ga.eval()"
   ]
  },
  {
   "cell_type": "code",
   "execution_count": 6,
   "id": "8dfd5ffb",
   "metadata": {},
   "outputs": [],
   "source": [
    "# io.export_to_txt(p1.chromosome, \"solutions\", f\"child1.txt\")\n",
    "# io.export_to_txt(p2.chromosome, \"solutions\", f\"child2.txt\")"
   ]
  },
  {
   "cell_type": "code",
   "execution_count": 7,
   "id": "8225c8d5",
   "metadata": {},
   "outputs": [],
   "source": [
    "# p1.check_constraint(verbose=True)"
   ]
  },
  {
   "cell_type": "code",
   "execution_count": 8,
   "id": "a6e3bdc1",
   "metadata": {},
   "outputs": [],
   "source": [
    "# p2.check_constraint(verbose=True)"
   ]
  },
  {
   "cell_type": "code",
   "execution_count": 9,
   "id": "aaba2bb7",
   "metadata": {},
   "outputs": [
    {
     "name": "stdout",
     "output_type": "stream",
     "text": [
      "Generation 0\n",
      "[22, 24, 22, 22, 20, 22, 22, 23, 21, 23]\n",
      "\n",
      "Generation 1\n",
      "[22, 20, 23, 22, 18, 20, 17, 21, 21, 18]\n",
      "\n",
      "Generation 2\n",
      "[20, 15, 18, 17, 20, 15, 16, 17, 16, 18]\n",
      "\n",
      "Generation 3\n",
      "[16, 17, 17, 15, 14, 14, 18, 14, 14, 14]\n",
      "\n",
      "Generation 4\n",
      "[12, 15, 16, 17, 14, 14, 14, 17, 12, 13]\n",
      "\n",
      "Generation 5\n"
     ]
    },
    {
     "ename": "StopIteration",
     "evalue": "",
     "output_type": "error",
     "traceback": [
      "\u001b[31m---------------------------------------------------------------------------\u001b[39m",
      "\u001b[31mStopIteration\u001b[39m                             Traceback (most recent call last)",
      "\u001b[36mCell\u001b[39m\u001b[36m \u001b[39m\u001b[32mIn[9]\u001b[39m\u001b[32m, line 1\u001b[39m\n\u001b[32m----> \u001b[39m\u001b[32m1\u001b[39m ga.run()\n",
      "\u001b[36mFile \u001b[39m\u001b[32m~/dev/python/course-scheduling/ga/genetic_algorithm.py:95\u001b[39m, in \u001b[36mGeneticAlgorithm.run\u001b[39m\u001b[34m(self)\u001b[39m\n\u001b[32m     93\u001b[39m \u001b[38;5;28;01mfor\u001b[39;00m gen \u001b[38;5;129;01min\u001b[39;00m \u001b[38;5;28mrange\u001b[39m(\u001b[38;5;28mself\u001b[39m.max_generation):\n\u001b[32m     94\u001b[39m     \u001b[38;5;28mprint\u001b[39m(\u001b[33mf\u001b[39m\u001b[33m\"\u001b[39m\u001b[33mGeneration \u001b[39m\u001b[38;5;132;01m{\u001b[39;00mgen+\u001b[32m1\u001b[39m\u001b[38;5;132;01m}\u001b[39;00m\u001b[33m\"\u001b[39m)\n\u001b[32m---> \u001b[39m\u001b[32m95\u001b[39m     \u001b[38;5;28mself\u001b[39m.evolve()\n\u001b[32m     96\u001b[39m     \u001b[38;5;28mprint\u001b[39m(\u001b[38;5;28mself\u001b[39m.eval(), end=\u001b[33m\"\u001b[39m\u001b[38;5;130;01m\\n\u001b[39;00m\u001b[38;5;130;01m\\n\u001b[39;00m\u001b[33m\"\u001b[39m)\n",
      "\u001b[36mFile \u001b[39m\u001b[32m~/dev/python/course-scheduling/ga/genetic_algorithm.py:76\u001b[39m, in \u001b[36mGeneticAlgorithm.evolve\u001b[39m\u001b[34m(self)\u001b[39m\n\u001b[32m     74\u001b[39m p2 = parents[i + \u001b[32m1\u001b[39m]\n\u001b[32m     75\u001b[39m \u001b[38;5;28;01mif\u001b[39;00m random.random() < \u001b[38;5;28mself\u001b[39m.crossover_rate:\n\u001b[32m---> \u001b[39m\u001b[32m76\u001b[39m     children_chromosomes = \u001b[38;5;28mself\u001b[39m.crossover(p1.chromosome, p2.chromosome)\n\u001b[32m     77\u001b[39m     next_population.extend([Genome(chromosome) \u001b[38;5;28;01mfor\u001b[39;00m chromosome \u001b[38;5;129;01min\u001b[39;00m children_chromosomes])\n\u001b[32m     78\u001b[39m \u001b[38;5;28;01melse\u001b[39;00m:\n",
      "\u001b[36mFile \u001b[39m\u001b[32m~/dev/python/course-scheduling/ga/genetic_algorithm.py:60\u001b[39m, in \u001b[36mGeneticAlgorithm.crossover\u001b[39m\u001b[34m(self, parent1, parent2)\u001b[39m\n\u001b[32m     58\u001b[39m \u001b[38;5;28;01mdef\u001b[39;00m\u001b[38;5;250m \u001b[39m\u001b[34mcrossover\u001b[39m(\u001b[38;5;28mself\u001b[39m, parent1: np.ndarray, parent2: np.ndarray) -> List[np.ndarray]:\n\u001b[32m     59\u001b[39m     crossover_operator = CrossoverOperator(method=\u001b[33m\"\u001b[39m\u001b[33mrandom_slice\u001b[39m\u001b[33m\"\u001b[39m)\n\u001b[32m---> \u001b[39m\u001b[32m60\u001b[39m     \u001b[38;5;28;01mreturn\u001b[39;00m crossover_operator.run([parent1, parent2])\n",
      "\u001b[36mFile \u001b[39m\u001b[32m~/dev/python/course-scheduling/ga/crossover_operator.py:17\u001b[39m, in \u001b[36mCrossoverOperator.run\u001b[39m\u001b[34m(self, parents)\u001b[39m\n\u001b[32m     15\u001b[39m     \u001b[38;5;28;01mreturn\u001b[39;00m [\u001b[38;5;28mself\u001b[39m._fixed_slice(parent1, parent2)]\n\u001b[32m     16\u001b[39m \u001b[38;5;28;01melif\u001b[39;00m \u001b[38;5;28mself\u001b[39m.method == \u001b[33m\"\u001b[39m\u001b[33mrandom_slice\u001b[39m\u001b[33m\"\u001b[39m:\n\u001b[32m---> \u001b[39m\u001b[32m17\u001b[39m     \u001b[38;5;28;01mreturn\u001b[39;00m \u001b[38;5;28mself\u001b[39m._random_slice(parent1, parent2)\n\u001b[32m     18\u001b[39m \u001b[38;5;28;01melse\u001b[39;00m:\n\u001b[32m     19\u001b[39m     \u001b[38;5;28;01mraise\u001b[39;00m \u001b[38;5;167;01mValueError\u001b[39;00m(\u001b[33mf\u001b[39m\u001b[33m\"\u001b[39m\u001b[33mUnsupported crossover method: \u001b[39m\u001b[38;5;132;01m{\u001b[39;00m\u001b[38;5;28mself\u001b[39m.method\u001b[38;5;132;01m}\u001b[39;00m\u001b[33m\"\u001b[39m)\n",
      "\u001b[36mFile \u001b[39m\u001b[32m~/dev/python/course-scheduling/ga/crossover_operator.py:160\u001b[39m, in \u001b[36mCrossoverOperator._random_slice\u001b[39m\u001b[34m(self, parent1, parent2)\u001b[39m\n\u001b[32m    155\u001b[39m             pointer += \u001b[32m1\u001b[39m\n\u001b[32m    157\u001b[39m     \u001b[38;5;28;01mreturn\u001b[39;00m np.array(child).reshape((T, R), order=\u001b[33m'\u001b[39m\u001b[33mF\u001b[39m\u001b[33m'\u001b[39m)\n\u001b[32m--> \u001b[39m\u001b[32m160\u001b[39m child1 = single_crossover(p1, p2)\n\u001b[32m    161\u001b[39m child1 = fix_class_boundary_fault(child1)\n\u001b[32m    162\u001b[39m child1 = fix_multiple_subject_session_fault(child1)\n",
      "\u001b[36mFile \u001b[39m\u001b[32m~/dev/python/course-scheduling/ga/crossover_operator.py:149\u001b[39m, in \u001b[36mCrossoverOperator._random_slice.<locals>.single_crossover\u001b[39m\u001b[34m(p1, p2)\u001b[39m\n\u001b[32m    146\u001b[39m pointer = start_idx\n\u001b[32m    148\u001b[39m \u001b[38;5;28;01mwhile\u001b[39;00m modified < half_len:\n\u001b[32m--> \u001b[39m\u001b[32m149\u001b[39m     gene = \u001b[38;5;28mnext\u001b[39m(p2_iter)\n\u001b[32m    151\u001b[39m     \u001b[38;5;28;01mif\u001b[39;00m child_counter[gene] < original_counter[gene]:\n\u001b[32m    152\u001b[39m         child[pointer] = gene\n",
      "\u001b[31mStopIteration\u001b[39m: "
     ]
    }
   ],
   "source": [
    "ga.run()"
   ]
  }
 ],
 "metadata": {
  "kernelspec": {
   "display_name": "course-scheduling",
   "language": "python",
   "name": "python3"
  },
  "language_info": {
   "codemirror_mode": {
    "name": "ipython",
    "version": 3
   },
   "file_extension": ".py",
   "mimetype": "text/x-python",
   "name": "python",
   "nbconvert_exporter": "python",
   "pygments_lexer": "ipython3",
   "version": "3.13.2"
  }
 },
 "nbformat": 4,
 "nbformat_minor": 5
}
