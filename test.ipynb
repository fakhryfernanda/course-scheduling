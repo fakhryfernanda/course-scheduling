{
 "cells": [
  {
   "cell_type": "code",
   "execution_count": 1,
   "id": "3c12e5fa",
   "metadata": {},
   "outputs": [],
   "source": [
    "%run main.py"
   ]
  },
  {
   "cell_type": "code",
   "execution_count": 2,
   "id": "c4b90dcb",
   "metadata": {},
   "outputs": [],
   "source": [
    "from utils import io\n",
    "\n",
    "# ch1 = ga.population[0]\n",
    "# ch2 = ga.population[1]\n",
    "\n",
    "# child1, child2 = ga.crossover(parent1=ch1.chromosome, parent2=ch2.chromosome)\n",
    "# io.export_to_txt(child1, \"solutions\", f\"child1.txt\")\n",
    "# io.export_to_txt(child2, \"solutions\", f\"child2.txt\")\n",
    "\n",
    "# ch1.mutate()\n",
    "# io.export_to_txt(ch1.chromosome, \"solutions\", f\"mutated.txt\")\n",
    "# ch1.check_constraint(verbose=True)"
   ]
  },
  {
   "cell_type": "code",
   "execution_count": 3,
   "id": "9bb72594",
   "metadata": {},
   "outputs": [],
   "source": [
    "ga.initialize_population()\n",
    "ga.export_population()\n",
    "population = ga.population"
   ]
  },
  {
   "cell_type": "code",
   "execution_count": 4,
   "id": "78ac713f",
   "metadata": {},
   "outputs": [
    {
     "data": {
      "text/plain": [
       "[22, 20, 22, 22, 23, 22, 21, 23, 21, 21]"
      ]
     },
     "execution_count": 4,
     "metadata": {},
     "output_type": "execute_result"
    }
   ],
   "source": [
    "ga.eval()"
   ]
  },
  {
   "cell_type": "code",
   "execution_count": 5,
   "id": "9ee5142c",
   "metadata": {},
   "outputs": [],
   "source": [
    "p1 = population[0]\n",
    "p2 = population[1]"
   ]
  },
  {
   "cell_type": "code",
   "execution_count": 6,
   "id": "79d8a8f8",
   "metadata": {},
   "outputs": [],
   "source": [
    "# p1, p2 = ga.crossover(p1.chromosome, p2.chromosome)\n",
    "# p1 = Genome(p1)\n",
    "# p2 = Genome(p2)"
   ]
  },
  {
   "cell_type": "code",
   "execution_count": 7,
   "id": "b32d2404",
   "metadata": {},
   "outputs": [],
   "source": [
    "p1.mutate()\n",
    "p2.mutate()"
   ]
  },
  {
   "cell_type": "code",
   "execution_count": 8,
   "id": "8dfd5ffb",
   "metadata": {},
   "outputs": [],
   "source": [
    "io.export_to_txt(p1.chromosome, \"solutions\", f\"child1.txt\")\n",
    "io.export_to_txt(p2.chromosome, \"solutions\", f\"child2.txt\")"
   ]
  },
  {
   "cell_type": "code",
   "execution_count": 9,
   "id": "8225c8d5",
   "metadata": {},
   "outputs": [
    {
     "data": {
      "text/plain": [
       "True"
      ]
     },
     "execution_count": 9,
     "metadata": {},
     "output_type": "execute_result"
    }
   ],
   "source": [
    "p1.check_constraint(verbose=True)\n",
    "p2.check_constraint(verbose=True)"
   ]
  },
  {
   "cell_type": "code",
   "execution_count": null,
   "id": "a6e3bdc1",
   "metadata": {},
   "outputs": [],
   "source": []
  }
 ],
 "metadata": {
  "kernelspec": {
   "display_name": "course-scheduling",
   "language": "python",
   "name": "python3"
  },
  "language_info": {
   "codemirror_mode": {
    "name": "ipython",
    "version": 3
   },
   "file_extension": ".py",
   "mimetype": "text/x-python",
   "name": "python",
   "nbconvert_exporter": "python",
   "pygments_lexer": "ipython3",
   "version": "3.13.2"
  }
 },
 "nbformat": 4,
 "nbformat_minor": 5
}
