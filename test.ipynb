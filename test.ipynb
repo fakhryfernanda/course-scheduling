{
 "cells": [
  {
   "cell_type": "code",
   "execution_count": 1,
   "id": "3c12e5fa",
   "metadata": {},
   "outputs": [],
   "source": [
    "%run main.py"
   ]
  },
  {
   "cell_type": "markdown",
   "id": "262bb6a3",
   "metadata": {},
   "source": [
    "## Testing"
   ]
  },
  {
   "cell_type": "markdown",
   "id": "cdcae562",
   "metadata": {},
   "source": [
    "### Crossover and Mutation"
   ]
  },
  {
   "cell_type": "code",
   "execution_count": 2,
   "id": "c4b90dcb",
   "metadata": {},
   "outputs": [],
   "source": [
    "# from utils import io\n",
    "# from ga.genome import Genome\n",
    "\n",
    "# for i in range(1000):\n",
    "#     ga.initialize_population()\n",
    "#     parent1 = ga.population[0]\n",
    "#     parent2 = ga.population[1]\n",
    "#     io.export_to_txt(parent1.chromosome, \"debug\", f\"parent1.txt\")\n",
    "#     io.export_to_txt(parent2.chromosome, \"debug\", f\"parent2.txt\")\n",
    "\n",
    "#     child = ga.crossover(parent1=parent1.chromosome, parent2=parent2.chromosome)\n",
    "#     child = Genome(child)\n",
    "#     child.check_constraint(verbose=True)\n",
    "\n",
    "#     # parent1.mutate()\n",
    "#     # io.export_to_txt(parent1.chromosome, \"debug\", f\"mutated.txt\")\n",
    "#     # parent1.check_constraint(verbose=True)"
   ]
  },
  {
   "cell_type": "markdown",
   "id": "28c519a8",
   "metadata": {},
   "source": [
    "### Run GA"
   ]
  },
  {
   "cell_type": "code",
   "execution_count": null,
   "id": "d38e2363",
   "metadata": {},
   "outputs": [],
   "source": [
    "ga.run()"
   ]
  },
  {
   "cell_type": "code",
   "execution_count": 36,
   "id": "9bb72594",
   "metadata": {},
   "outputs": [],
   "source": [
    "# ga.initialize_population()\n",
    "# ga.export_population()\n",
    "# population = ga.population\n",
    "# print(ga.eval())\n",
    "\n",
    "# p1 = population[0]\n",
    "# p2 = population[1]"
   ]
  },
  {
   "cell_type": "code",
   "execution_count": 37,
   "id": "79d8a8f8",
   "metadata": {},
   "outputs": [],
   "source": [
    "# p1, p2 = ga.crossover(p1.chromosome, p2.chromosome)\n",
    "# p1 = Genome(p1)\n",
    "# p2 = Genome(p2)\n",
    "\n",
    "# p1.mutate()\n",
    "# p2.mutate()"
   ]
  },
  {
   "cell_type": "code",
   "execution_count": 38,
   "id": "b32d2404",
   "metadata": {},
   "outputs": [],
   "source": [
    "# ga.evolve()\n",
    "\n",
    "# p1 = ga.population[0]\n",
    "# p2 = ga.population[1]\n",
    "\n",
    "# ga.eval()"
   ]
  },
  {
   "cell_type": "code",
   "execution_count": 39,
   "id": "8dfd5ffb",
   "metadata": {},
   "outputs": [],
   "source": [
    "# io.export_to_txt(p1.chromosome, \"solutions\", f\"child1.txt\")\n",
    "# io.export_to_txt(p2.chromosome, \"solutions\", f\"child2.txt\")"
   ]
  },
  {
   "cell_type": "code",
   "execution_count": 40,
   "id": "8225c8d5",
   "metadata": {},
   "outputs": [],
   "source": [
    "# p1.check_constraint(verbose=True)"
   ]
  },
  {
   "cell_type": "code",
   "execution_count": 41,
   "id": "a6e3bdc1",
   "metadata": {},
   "outputs": [],
   "source": [
    "# p2.check_constraint(verbose=True)"
   ]
  },
  {
   "cell_type": "code",
   "execution_count": null,
   "id": "aaba2bb7",
   "metadata": {},
   "outputs": [],
   "source": [
    "ga.run()"
   ]
  },
  {
   "cell_type": "code",
   "execution_count": null,
   "id": "ac2c2b55",
   "metadata": {},
   "outputs": [],
   "source": [
    "639 % 40"
   ]
  },
  {
   "cell_type": "code",
   "execution_count": 11,
   "id": "6b9b2701",
   "metadata": {},
   "outputs": [],
   "source": [
    "from utils import io\n",
    "arr1 = io.import_from_txt(\"debug\", f\"p1.txt\")"
   ]
  },
  {
   "cell_type": "code",
   "execution_count": 12,
   "id": "2f455110",
   "metadata": {},
   "outputs": [],
   "source": [
    "from collections import Counter\n",
    "flatten = arr1.flatten(order='F')\n",
    "counter = Counter(flatten)"
   ]
  },
  {
   "cell_type": "code",
   "execution_count": 13,
   "id": "26143616",
   "metadata": {},
   "outputs": [],
   "source": [
    "counter[0] += 1"
   ]
  },
  {
   "cell_type": "code",
   "execution_count": 14,
   "id": "4a7997af",
   "metadata": {},
   "outputs": [],
   "source": [
    "aa = list(range(10))\n",
    "aa_iter = iter(aa)"
   ]
  },
  {
   "cell_type": "code",
   "execution_count": null,
   "id": "db8057f8",
   "metadata": {},
   "outputs": [],
   "source": [
    "for i in range(10):\n",
    "    print(next(aa_iter))"
   ]
  },
  {
   "cell_type": "code",
   "execution_count": null,
   "id": "a960c78d",
   "metadata": {},
   "outputs": [],
   "source": []
  }
 ],
 "metadata": {
  "kernelspec": {
   "display_name": "course-scheduling",
   "language": "python",
   "name": "python3"
  },
  "language_info": {
   "codemirror_mode": {
    "name": "ipython",
    "version": 3
   },
   "file_extension": ".py",
   "mimetype": "text/x-python",
   "name": "python",
   "nbconvert_exporter": "python",
   "pygments_lexer": "ipython3",
   "version": "3.13.3"
  }
 },
 "nbformat": 4,
 "nbformat_minor": 5
}
